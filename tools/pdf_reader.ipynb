{
 "cells": [
  {
   "cell_type": "code",
   "id": "initial_id",
   "metadata": {
    "collapsed": true,
    "ExecuteTime": {
     "end_time": "2024-11-14T02:16:34.408206Z",
     "start_time": "2024-11-14T02:16:34.360606Z"
    }
   },
   "source": [
    "from pypdf import PdfReader\n",
    "\n",
    "pdf_path = \"시간표.pdf\"\n",
    "\n",
    "pdf_file = PdfReader(pdf_path)"
   ],
   "outputs": [],
   "execution_count": 1
  },
  {
   "metadata": {
    "ExecuteTime": {
     "end_time": "2024-11-14T02:16:35.523929Z",
     "start_time": "2024-11-14T02:16:35.520100Z"
    }
   },
   "cell_type": "code",
   "source": [
    "page = pdf_file.pages[0]\n",
    "text = page.extract_text()\n",
    "print(text)\n",
    "# 안됨"
   ],
   "id": "75e1626cc5f3b304",
   "outputs": [
    {
     "name": "stdout",
     "output_type": "stream",
     "text": [
      "\n"
     ]
    }
   ],
   "execution_count": 2
  },
  {
   "metadata": {
    "ExecuteTime": {
     "end_time": "2024-11-14T02:16:36.848238Z",
     "start_time": "2024-11-14T02:16:36.844599Z"
    }
   },
   "cell_type": "code",
   "source": [
    "for i, page in enumerate(pdf_file.pages):\n",
    "    print(i)\n",
    "    print(page.extract_text())"
   ],
   "id": "f362e5631f76bb21",
   "outputs": [
    {
     "name": "stdout",
     "output_type": "stream",
     "text": [
      "0\n",
      "\n"
     ]
    }
   ],
   "execution_count": 3
  },
  {
   "metadata": {},
   "cell_type": "code",
   "outputs": [],
   "execution_count": null,
   "source": "",
   "id": "b72bbd5cefc759dc"
  }
 ],
 "metadata": {
  "kernelspec": {
   "display_name": "Python 3",
   "language": "python",
   "name": "python3"
  },
  "language_info": {
   "codemirror_mode": {
    "name": "ipython",
    "version": 2
   },
   "file_extension": ".py",
   "mimetype": "text/x-python",
   "name": "python",
   "nbconvert_exporter": "python",
   "pygments_lexer": "ipython2",
   "version": "2.7.6"
  }
 },
 "nbformat": 4,
 "nbformat_minor": 5
}
