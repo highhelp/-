{
 "cells": [
  {
   "metadata": {},
   "cell_type": "markdown",
   "source": "<h1>speech_recognition 를 사용하여 마이크 입력 받기</h1>",
   "id": "32da5edb98b6c9b5"
  },
  {
   "metadata": {},
   "cell_type": "code",
   "outputs": [],
   "execution_count": null,
   "source": "import speech_recognition as sr",
   "id": "f830d48f3f402479"
  },
  {
   "metadata": {},
   "cell_type": "code",
   "outputs": [],
   "execution_count": null,
   "source": [
    "recognizer = sr.Recognizer()\n",
    "\n",
    "# 마이크 설정\n",
    "microphone = sr.Microphone(sample_rate=16000)\n",
    "\n",
    "# 마이크 소음 수치 반영\n",
    "with microphone as source:\n",
    "    recognizer.adjust_for_ambient_noise(source)\n",
    "    print(\"소음 수치 반영하여 음성을 청취합니다. {}\".format(recognizer.energy_threshold))\n",
    "\n",
    "# 음성 수집\n",
    "with microphone as source:\n",
    "    print(\"목소리를 들을 준비가 되었습니다. 말씀해주세요 :)\")\n",
    "    audio = recognizer.listen(source)\n"
   ],
   "id": "ab5fac83cf5b0ad8"
  },
  {
   "metadata": {},
   "cell_type": "markdown",
   "source": "<h1>speech_recognition 를 사용하여 오디오 파일 읽기</h1>",
   "id": "20818ceb4a002539"
  },
  {
   "metadata": {},
   "cell_type": "code",
   "outputs": [],
   "execution_count": null,
   "source": [
    "recognizer = sr.Recognizer()\n",
    "\n",
    "audio_file = sr.AudioFile('hello_16k.wav')\n",
    "\n",
    "with audio_file as source:\n",
    "    audio = recognizer.record(source)"
   ],
   "id": "874c55ec7b6477a6"
  },
  {
   "metadata": {},
   "cell_type": "markdown",
   "source": "<h1>google STT 사용하여 마이크로 녹음된 소리 텍스트로 변환</h1>",
   "id": "d78a5009f8bc994d"
  },
  {
   "metadata": {},
   "cell_type": "code",
   "outputs": [],
   "execution_count": null,
   "source": [
    "result_text = recognizer.recognize_google(audio, language='ko-KR')\n",
    "print(result_text)"
   ],
   "id": "6fec795ab29128b1"
  },
  {
   "metadata": {},
   "cell_type": "markdown",
   "source": "<h1>whisper STT 사용하여 마이크로 녹음된 소리 텍스트로 변환</h1>",
   "id": "8ece608e345caa5f"
  },
  {
   "metadata": {},
   "cell_type": "code",
   "outputs": [],
   "execution_count": null,
   "source": [
    "import numpy as np\n",
    "import whisper\n",
    "\n",
    "# audio 통합 data 에서 순수 array 추출\n",
    "audio_bytes = audio.get_raw_data()\n",
    "\n",
    "# 모댈에 입력 모양과 맞추기\n",
    "audio_np = np.frombuffer(audio_bytes, dtype=np.int16).astype(np.float32) / 32768.0\n",
    "\n",
    "# 변환 모델 불러오기\n",
    "model = whisper.load_model(\"base\")\n",
    "\n",
    "# 소리 데이터 텍스트로 변환\n",
    "result = model.transcribe(audio_np, fp16=False, language='ko')\n",
    "\n",
    "print(result['text'])"
   ],
   "id": "bf61fe7edc1c35d9"
  },
  {
   "metadata": {},
   "cell_type": "markdown",
   "source": "<h1>gTTS 사용하여 text 를 audio 로 변환</h1>",
   "id": "fcdd8b9087573b1c"
  },
  {
   "metadata": {},
   "cell_type": "code",
   "outputs": [],
   "execution_count": null,
   "source": [
    "import gtts\n",
    "from IPython.display import Audio"
   ],
   "id": "64f09b1c367d4a1c"
  },
  {
   "metadata": {
    "jupyter": {
     "is_executing": true
    }
   },
   "cell_type": "code",
   "source": [
    "# text 받고 한국어 목소리로 저장\n",
    "sound = gtts.gTTS(result_text, lang='ko-KR')\n",
    "\n",
    "# 지정된 파일이름으로 소리 저장 \n",
    "sound.save(\"tmp.mp3\")\n",
    "\n",
    "# 노트북에서 소리를 재생할 수 있도록 UI 생성\n",
    "Audio(\"tmp.mp3\", autoplay=True)"
   ],
   "id": "baa0c7babb849f1e",
   "outputs": [],
   "execution_count": null
  }
 ],
 "metadata": {
  "kernelspec": {
   "display_name": "Python 3",
   "language": "python",
   "name": "python3"
  },
  "language_info": {
   "codemirror_mode": {
    "name": "ipython",
    "version": 2
   },
   "file_extension": ".py",
   "mimetype": "text/x-python",
   "name": "python",
   "nbconvert_exporter": "python",
   "pygments_lexer": "ipython2",
   "version": "2.7.6"
  }
 },
 "nbformat": 4,
 "nbformat_minor": 5
}
