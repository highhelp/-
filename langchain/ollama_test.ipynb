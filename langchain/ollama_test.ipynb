{
 "cells": [
  {
   "metadata": {
    "ExecuteTime": {
     "end_time": "2024-10-17T02:12:30.528188Z",
     "start_time": "2024-10-17T02:12:25.811811Z"
    }
   },
   "cell_type": "code",
   "source": [
    "# from langchain_community.chat_models import ChatOllama # 구식\n",
    "from langchain_ollama import ChatOllama\n",
    "from langchain_core.output_parsers import StrOutputParser\n",
    "from langchain_core.prompts import ChatPromptTemplate\n",
    "from langchain_core.callbacks.streaming_stdout import StreamingStdOutCallbackHandler\n",
    "from langchain_core.callbacks.manager import CallbackManager\n",
    "\n",
    "# LangChain이 지원하는 다른 채팅 모델을 사용합니다. 여기서는 Ollama를 사용합니다.\n",
    "llm = ChatOllama(\n",
    "    # 모델은 컴퓨터에 돌아가고 있는 llama\n",
    "    model=\"EEVE-Korean-10.8B:latest\",\n",
    "    callback_manager=CallbackManager([StreamingStdOutCallbackHandler()]),\n",
    ")\n",
    "\n",
    "# 주제를 기반으로 짧은 농담을 요청하는 프롬프트 템플릿을 생성합니다.\n",
    "prompt = ChatPromptTemplate.from_template(\"{topic} 에 대하여 간략히 설명해 줘.\")\n",
    "\n",
    "# LangChain 표현식 언어 체인 구문을 사용합니다.\n",
    "chain = prompt | llm | StrOutputParser()\n",
    "\n",
    "# 간결성을 위해 응답은 터미널에 출력됩니다.\n",
    "# 프로덕션 환경에서 애플리케이션을 배포하기 위해 LangServe를 사용할 수 있습니다.\n",
    "result = chain.invoke({\"topic\": [\"deep learning\", \"neural network\"]})\n"
   ],
   "id": "aa52a244e48a4498",
   "outputs": [
    {
     "name": "stdout",
     "output_type": "stream",
     "text": [
      "딥 러닝과 신경망에 대해 간단히 설명드리겠습니다.\r\n",
      "\r\n",
      "딥 러닝(Deep Learning)은 인공지능(AI)의 한 분야로, 대량의 데이터를 바탕으로 모델을 학습시키고 스스로 패턴을 찾아내는 능력을 가지고 있습니다. 이는 인간의 뇌와 유사한 방식으로 작동하여 데이터로부터 점점 더 깊이 있는 특징과 추상화를 발견해내는데, 이 때문에 '딥 러닝'이라는 이름이 붙여졌습니다.\r\n",
      "\r\n",
      "신경망(Neural Networks)은 이러한 딥 러닝을 수행하는 데 사용되는 알고리즘입니다. 이는 서로 연결된 다수의 노드로 구성되어 있으며, 각 노드는 인공 뉴런 역할을 합니다. 데이터를 처리하면서 신경망이 학습하면, 뉴런 사이의 연결 강도가 조정되어 최적의 결과를 찾게 됩니다.\r\n",
      "\r\n",
      "예를 들어 이미지 인식이나 음성 인식을 위해 딥 러닝과 신경망을 활용할 수 있습니다. 방대한 데이터셋을 바탕으로 모델이 훈련되면, 새로운 이미지를 입력받아 정확한 분류를 할 수 있으며, 인간의 도움을 받지 않고도 스스로 개선됩니다.\r\n",
      "\r\n",
      "요약하자면, 딥 러닝은 대량의 데이터를 바탕으로 패턴과 추상화를 학습하는 AI의 한 분야이며, 신경망은 이러한 작업을 수행하는 데 사용되는 알고리즘입니다. 이 둘을 결합함으로써 우리는 자연어 처리, 이미지 인식, 음성 인식 등 다양한 분야에서 상당한 진전을 이루었습니다."
     ]
    }
   ],
   "execution_count": 3
  },
  {
   "metadata": {
    "ExecuteTime": {
     "end_time": "2024-10-10T05:56:06.989599Z",
     "start_time": "2024-10-10T05:56:06.981410Z"
    }
   },
   "cell_type": "code",
   "source": "prompt.format_prompt(topic=[\"deep learning\", \"neural network\"]).to_messages()[0].content",
   "id": "3e4e8d571c9ee1a1",
   "outputs": [
    {
     "data": {
      "text/plain": [
       "\"['deep learning', 'neural network'] 에 대하여 간략히 설명해 줘.\""
      ]
     },
     "execution_count": 12,
     "metadata": {},
     "output_type": "execute_result"
    }
   ],
   "execution_count": 12
  },
  {
   "metadata": {
    "ExecuteTime": {
     "end_time": "2024-10-17T02:15:19.131177Z",
     "start_time": "2024-10-17T02:15:18.358863Z"
    }
   },
   "cell_type": "code",
   "source": "_ = llm.invoke(\"안녕\")",
   "id": "7f794e2fb0b68504",
   "outputs": [
    {
     "name": "stdout",
     "output_type": "stream",
     "text": [
      "안녕하세요! 안녕하십니까? 저는 안양대학교 학부 관련 소식을 알려드리는 챗봇입니다. 궁금한 점이 있으시면 언제든 물어보세요, 최선을 다해 도와드리겠습니다."
     ]
    }
   ],
   "execution_count": 4
  },
  {
   "metadata": {
    "ExecuteTime": {
     "end_time": "2024-10-17T02:16:10.895938Z",
     "start_time": "2024-10-17T02:16:04.421462Z"
    }
   },
   "cell_type": "code",
   "source": [
    "_ = llm.invoke(\"공지사항 알려줘\")\n",
    "# 헛소리"
   ],
   "id": "d3a765c4280a60cc",
   "outputs": [
    {
     "name": "stdout",
     "output_type": "stream",
     "text": [
      "안녕하세요! 안녕하십니까? 안양대학교 학부 관련 공지를 안내해 드리겠습니다. 최근 공지와 행사 소식은 다음과 같습니다:\n",
      "\n",
      "1. 새학기 개강일: 20XX년 3월 2일에 새학기가 시작됩니다. 수업 일정에 맞춰 등록을 완료하시고 첫 강의에 참석하시기 바랍니다.\n",
      "\n",
      "2. 수강 신청 기간: 수강 신청은 20XX년 2월 16일부터 24일까지 가능합니다. 수강 가능 여부와 시간표를 고려하여 신중하게 수강 신청을 진행하세요.\n",
      "\n",
      "3. 기말고사 일정: 기말고사는 20XX년 5월 28일부터 6월 4일까지 예정되어 있습니다. 시험 일정을 확인하고 적절한 준비와 학습 계획을 세우시기 바랍니다.\n",
      "\n",
      "4. 교과목 수강 변경 기간: 교과목을 추가하거나 삭제하고 싶으시다면, 20XX년 3월 15일부터 19일까지 수강 변경 기간에 신청하세요. 학업 계획과 시간표를 고려하여 신중히 결정하시기 바랍니다.\n",
      "\n",
      "5. 학생 취업 및 진로 상담: 진로 결정을 고민 중이시거나 취업에 대한 지원이 필요하시다면, 안양대학교 직업상담센터를 방문하거나 상담을 예약하실 수 있습니다. 자세한 정보는 홈페이지를 참조하세요.\n",
      "\n",
      "6. 외부 장학금 안내: 다양한 장학 기회에 관한 정보를 얻으시려면 홈페이지의 '장학' 메뉴에서 관련 공고를 확인하시기 바랍니다. 신청 자격과 마감일을 주의 깊게 살피시기 바랍니다.\n",
      "\n",
      "7. 학생 동아리에 가입하세요! 안양대학교에는 다양한 관심사를 위한 여러 클럽이 있습니다. 새로운 취미나 전공 관련 기술을 개발하고 싶다면, 공식 웹사이트를 방문하여 동아리 목록을 확인하고 가입하세요.\n",
      "\n",
      "추가적인 공지사항이나 행사에 대한 업데이트는 학교 홈페이지와 SNS 채널을 주시해주시기 바랍니다. 안녕히 계세요!"
     ]
    }
   ],
   "execution_count": 5
  }
 ],
 "metadata": {
  "kernelspec": {
   "display_name": "Python 3",
   "language": "python",
   "name": "python3"
  },
  "language_info": {
   "codemirror_mode": {
    "name": "ipython",
    "version": 2
   },
   "file_extension": ".py",
   "mimetype": "text/x-python",
   "name": "python",
   "nbconvert_exporter": "python",
   "pygments_lexer": "ipython2",
   "version": "2.7.6"
  }
 },
 "nbformat": 4,
 "nbformat_minor": 5
}
